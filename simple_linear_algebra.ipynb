{
  "nbformat": 4,
  "nbformat_minor": 0,
  "metadata": {
    "colab": {
      "name": "simple_linear_algebra.ipynb",
      "private_outputs": true,
      "provenance": [],
      "collapsed_sections": [],
      "authorship_tag": "ABX9TyNfyxagU8YSPpfVijGOupXj",
      "include_colab_link": true
    },
    "kernelspec": {
      "name": "python3",
      "display_name": "Python 3"
    },
    "language_info": {
      "name": "python"
    }
  },
  "cells": [
    {
      "cell_type": "markdown",
      "metadata": {
        "id": "view-in-github",
        "colab_type": "text"
      },
      "source": [
        "<a href=\"https://colab.research.google.com/github/stevensmiley1989/data-science-ipython-notebooks/blob/master/simple_linear_algebra.ipynb\" target=\"_parent\"><img src=\"https://colab.research.google.com/assets/colab-badge.svg\" alt=\"Open In Colab\"/></a>"
      ]
    },
    {
      "cell_type": "code",
      "source": [
        "import numpy as np\n",
        "def row_echelon(A):\n",
        "    \"\"\" Return Row Echelon Form of matrix A \"\"\"\n",
        "\n",
        "    # if matrix A has no columns or rows,\n",
        "    # it is already in REF, so we return itself\n",
        "    r, c = A.shape\n",
        "    if r == 0 or c == 0:\n",
        "        return A\n",
        "\n",
        "    # we search for non-zero element in the first column\n",
        "    for i in range(len(A)):\n",
        "        if A[i,0] != 0:\n",
        "            break\n",
        "    else:\n",
        "        # if all elements in the first column is zero,\n",
        "        # we perform REF on matrix from second column\n",
        "        B = row_echelon(A[:,1:])\n",
        "        # and then add the first zero-column back\n",
        "        return np.hstack([A[:,:1], B])\n",
        "\n",
        "    # if non-zero element happens not in the first row,\n",
        "    # we switch rows\n",
        "    if i > 0:\n",
        "        ith_row = A[i].copy()\n",
        "        A[i] = A[0]\n",
        "        A[0] = ith_row\n",
        "\n",
        "    # we divide first row by first element in it\n",
        "    A[0] = A[0] / A[0,0]\n",
        "    # we subtract all subsequent rows with first row (it has 1 now as first element)\n",
        "    # multiplied by the corresponding element in the first column\n",
        "    A[1:] -= A[0] * A[1:,0:1]\n",
        "    return A "
      ],
      "metadata": {
        "id": "MB4SMQk9MiyN"
      },
      "execution_count": null,
      "outputs": []
    },
    {
      "cell_type": "code",
      "source": [
        "print('############################')\n",
        "#Creating a matrix A\n",
        "A = np.array([[2,43,123,4],[1,4,4,2],[2,7,3,9],[3,8,3,4]])\n",
        "#A=row_echelon(A)\n",
        "print('A=',A)\n",
        "#Performing SVD\n",
        "U, D, VT = np.linalg.svd(A)\n",
        " \n",
        "#Checking if we can remake the original matrix using U,D,VT\n",
        "A_remake = (U @ np.diag(D) @ VT)\n",
        "print('A_remake = (U@np.diag(D)@VT)',A_remake)\n",
        "A_also_remake=np.dot(np.dot(U,np.diag(D)),VT)"
      ],
      "metadata": {
        "id": "ZwTuOFwYMohu"
      },
      "execution_count": null,
      "outputs": []
    },
    {
      "cell_type": "code",
      "source": [
        "#get covariance matrix of x\n",
        "cm=np.zeros(shape=A.shape)\n",
        "for i in range(A.shape[0]):\n",
        "    for j in range(A.shape[1]):\n",
        "        cm[i,j]=np.dot(A[i]-np.mean(A[i]),(A[j]-np.mean(A[j])))/2\n",
        "print('###############################')\n",
        "print('Covariance Matrix of A by hand')\n",
        "print(cm)\n",
        "print('np.cov(A)')\n",
        "print(np.cov(A))\n",
        "print(' ')"
      ],
      "metadata": {
        "id": "0YsE9AG0Mr89"
      },
      "execution_count": null,
      "outputs": []
    },
    {
      "cell_type": "code",
      "source": [
        "from sklearn.decomposition import PCA\n",
        "pca=PCA()\n",
        "cA_pca=pca.fit_transform(np.cov(A))\n",
        "print('#############################')\n",
        "print('PCA of np.cov(A)')\n",
        "print(cA_pca)\n",
        "print('pca.n_components_=',pca.n_components_)\n",
        "tot = sum(pca.explained_variance_)\n",
        "print('sum(pca.explained_variance_)',tot)\n",
        "var_exp = [(i/tot)*100 for i in sorted(pca.explained_variance_, reverse=True)]\n",
        "print('var_exp',var_exp)\n",
        "# Cumulative explained variance\n",
        "cum_var_exp = np.cumsum(var_exp)\n",
        "print('cum_var_exp = np.cumsum(var_exp)',cum_var_exp)\n",
        "componentsVariance = [A.shape[0]*A.shape[1], np.argmax(cum_var_exp > 99) + 1, np.argmax(cum_var_exp > 95) + 1]\n",
        "print('componentsVariance',componentsVariance)\n",
        "print(' ')\n",
        "\n",
        "pca=PCA()\n",
        "A_pca=pca.fit_transform(A)\n",
        "print('#############################')\n",
        "print('PCA of A')\n",
        "print(A_pca)\n",
        "print('pca.n_components_=',pca.n_components_)\n",
        "tot = sum(pca.explained_variance_)\n",
        "print('sum(pca.explained_variance_)',tot)\n",
        "var_exp = [(i/tot)*100 for i in sorted(pca.explained_variance_, reverse=True)]\n",
        "print('var_exp',var_exp)\n",
        "# Cumulative explained variance\n",
        "cum_var_exp = np.cumsum(var_exp)\n",
        "print('cum_var_exp = np.cumsum(var_exp)',cum_var_exp)\n",
        "componentsVariance = [A.shape[0]*A.shape[1], np.argmax(cum_var_exp > 99) + 1, np.argmax(cum_var_exp > 95) + 1]\n",
        "print('componentsVariance',componentsVariance)\n",
        "print(' ')"
      ],
      "metadata": {
        "id": "OpvyJYL6M0RK"
      },
      "execution_count": null,
      "outputs": []
    },
    {
      "cell_type": "code",
      "execution_count": null,
      "metadata": {
        "id": "8k8LmY0BMZVp"
      },
      "outputs": [],
      "source": [
        "print('##############A###############')\n",
        "print('eigenvalues from np.linalg.svd')\n",
        "print(sorted(np.linalg.svd(A)[1]**2)) #eigenvalues from np.linalg.svd\n",
        "print('eigenvalues from np.linalg.eig')\n",
        "print(sorted(np.linalg.eig(np.dot(A.T,A))[0])) #eigenvalues from np.linalg.eig\n",
        "print('Pretty close, but not the exact same')\n",
        "print('##############np.cov(A)################')\n",
        "print('eigenvalues from np.linalg.svd')\n",
        "print(sorted(np.linalg.svd(np.cov(A))[1]**2)) #eigenvalues from np.linalg.svd\n",
        "print('eigenvalues from np.linalg.eig')\n",
        "print(sorted(np.linalg.eig(np.dot(np.cov(A).T,np.cov(A)))[0])) #eigenvalues from np.linalg.eig\n",
        "print('Pretty close, but not the exact same')"
      ]
    },
    {
      "cell_type": "code",
      "source": [
        "print('##############################')\n",
        "print('prove (A-eig_v)*eig_vec=0')\n",
        "print('A',A)\n",
        "eig_values_A=np.linalg.eig(np.dot(A.T,A))[0]\n",
        "print('eig_values_A',sorted(eig_values_A))\n",
        "eig_vectors_A=np.linalg.eig(np.dot(A.T,A))[1]\n",
        "print('eig_vectors_A',eig_vectors_A)\n",
        "result=np.sum((np.dot(A.T,A)-np.diag(eig_values_A))*eig_vectors_A.T)\n",
        "print(result)\n",
        "print('np.sum((A-np.diag(eig_values_A))*eig_vectors_A.T) =',np.round(np.sqrt(result.real**2+result.imag**2),4))\n"
      ],
      "metadata": {
        "id": "ky__daF_P5-R"
      },
      "execution_count": null,
      "outputs": []
    },
    {
      "cell_type": "code",
      "source": [
        ""
      ],
      "metadata": {
        "id": "sqXg1-orSFpT"
      },
      "execution_count": null,
      "outputs": []
    }
  ]
}