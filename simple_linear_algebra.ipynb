{
  "nbformat": 4,
  "nbformat_minor": 0,
  "metadata": {
    "colab": {
      "name": "simple_linear_algebra.ipynb",
      "provenance": [],
      "collapsed_sections": [],
      "authorship_tag": "ABX9TyNfyxagU8YSPpfVijGOupXj",
      "include_colab_link": true
    },
    "kernelspec": {
      "name": "python3",
      "display_name": "Python 3"
    },
    "language_info": {
      "name": "python"
    }
  },
  "cells": [
    {
      "cell_type": "markdown",
      "metadata": {
        "id": "view-in-github",
        "colab_type": "text"
      },
      "source": [
        "<a href=\"https://colab.research.google.com/github/stevensmiley1989/data-science-ipython-notebooks/blob/master/simple_linear_algebra.ipynb\" target=\"_parent\"><img src=\"https://colab.research.google.com/assets/colab-badge.svg\" alt=\"Open In Colab\"/></a>"
      ]
    },
    {
      "cell_type": "code",
      "source": [
        "import numpy as np\n",
        "def row_echelon(A):\n",
        "    \"\"\" Return Row Echelon Form of matrix A \"\"\"\n",
        "\n",
        "    # if matrix A has no columns or rows,\n",
        "    # it is already in REF, so we return itself\n",
        "    r, c = A.shape\n",
        "    if r == 0 or c == 0:\n",
        "        return A\n",
        "\n",
        "    # we search for non-zero element in the first column\n",
        "    for i in range(len(A)):\n",
        "        if A[i,0] != 0:\n",
        "            break\n",
        "    else:\n",
        "        # if all elements in the first column is zero,\n",
        "        # we perform REF on matrix from second column\n",
        "        B = row_echelon(A[:,1:])\n",
        "        # and then add the first zero-column back\n",
        "        return np.hstack([A[:,:1], B])\n",
        "\n",
        "    # if non-zero element happens not in the first row,\n",
        "    # we switch rows\n",
        "    if i > 0:\n",
        "        ith_row = A[i].copy()\n",
        "        A[i] = A[0]\n",
        "        A[0] = ith_row\n",
        "\n",
        "    # we divide first row by first element in it\n",
        "    A[0] = A[0] / A[0,0]\n",
        "    # we subtract all subsequent rows with first row (it has 1 now as first element)\n",
        "    # multiplied by the corresponding element in the first column\n",
        "    A[1:] -= A[0] * A[1:,0:1]\n",
        "    return A "
      ],
      "metadata": {
        "id": "MB4SMQk9MiyN"
      },
      "execution_count": 1,
      "outputs": []
    },
    {
      "cell_type": "code",
      "source": [
        "print('############################')\n",
        "#Creating a matrix A\n",
        "A = np.array([[2,43,123,4],[1,4,4,2],[2,7,3,9],[3,8,3,4]])\n",
        "#A=row_echelon(A)\n",
        "print('A=',A)\n",
        "#Performing SVD\n",
        "U, D, VT = np.linalg.svd(A)\n",
        " \n",
        "#Checking if we can remake the original matrix using U,D,VT\n",
        "A_remake = (U @ np.diag(D) @ VT)\n",
        "print('A_remake = (U@np.diag(D)@VT)',A_remake)\n",
        "A_also_remake=np.dot(np.dot(U,np.diag(D)),VT)"
      ],
      "metadata": {
        "colab": {
          "base_uri": "https://localhost:8080/"
        },
        "id": "ZwTuOFwYMohu",
        "outputId": "7b6b906c-4200-43c1-f37f-f5f2a7bfd564"
      },
      "execution_count": 2,
      "outputs": [
        {
          "output_type": "stream",
          "name": "stdout",
          "text": [
            "############################\n",
            "A= [[  2  43 123   4]\n",
            " [  1   4   4   2]\n",
            " [  2   7   3   9]\n",
            " [  3   8   3   4]]\n",
            "A_remake = (U@np.diag(D)@VT) [[  2.  43. 123.   4.]\n",
            " [  1.   4.   4.   2.]\n",
            " [  2.   7.   3.   9.]\n",
            " [  3.   8.   3.   4.]]\n"
          ]
        }
      ]
    },
    {
      "cell_type": "code",
      "source": [
        "#get covariance matrix of x\n",
        "cm=np.zeros(shape=A.shape)\n",
        "for i in range(A.shape[0]):\n",
        "    for j in range(A.shape[1]):\n",
        "        cm[i,j]=np.dot(A[i]-np.mean(A[i]),(A[j]-np.mean(A[j])))/2\n",
        "print('###############################')\n",
        "print('Covariance Matrix of A by hand')\n",
        "print(cm)\n",
        "print('np.cov(A)')\n",
        "print(np.cov(A))\n",
        "print(' ')"
      ],
      "metadata": {
        "colab": {
          "base_uri": "https://localhost:8080/"
        },
        "id": "0YsE9AG0Mr89",
        "outputId": "79a7ff8b-17bd-4455-c9da-8a3bc21c38c5"
      },
      "execution_count": 3,
      "outputs": [
        {
          "output_type": "stream",
          "name": "stdout",
          "text": [
            "###############################\n",
            "Covariance Matrix of A by hand\n",
            "[[ 4.8010e+03  1.0050e+02 -9.6500e+01 -1.9500e+01]\n",
            " [ 1.0050e+02  3.3750e+00  1.1250e+00  2.7500e+00]\n",
            " [-9.6500e+01  1.1250e+00  1.6375e+01  6.2500e+00]\n",
            " [-1.9500e+01  2.7500e+00  6.2500e+00  8.5000e+00]]\n",
            "np.cov(A)\n",
            "[[ 3.20066667e+03  6.70000000e+01 -6.43333333e+01 -1.30000000e+01]\n",
            " [ 6.70000000e+01  2.25000000e+00  7.50000000e-01  1.83333333e+00]\n",
            " [-6.43333333e+01  7.50000000e-01  1.09166667e+01  4.16666667e+00]\n",
            " [-1.30000000e+01  1.83333333e+00  4.16666667e+00  5.66666667e+00]]\n",
            " \n"
          ]
        }
      ]
    },
    {
      "cell_type": "code",
      "source": [
        "from sklearn.decomposition import PCA\n",
        "pca=PCA()\n",
        "cA_pca=pca.fit_transform(np.cov(A))\n",
        "print('#############################')\n",
        "print('PCA of np.cov(A)')\n",
        "print(cA_pca)\n",
        "print('pca.n_components_=',pca.n_components_)\n",
        "tot = sum(pca.explained_variance_)\n",
        "print('sum(pca.explained_variance_)',tot)\n",
        "var_exp = [(i/tot)*100 for i in sorted(pca.explained_variance_, reverse=True)]\n",
        "print('var_exp',var_exp)\n",
        "# Cumulative explained variance\n",
        "cum_var_exp = np.cumsum(var_exp)\n",
        "print('cum_var_exp = np.cumsum(var_exp)',cum_var_exp)\n",
        "componentsVariance = [A.shape[0]*A.shape[1], np.argmax(cum_var_exp > 99) + 1, np.argmax(cum_var_exp > 95) + 1]\n",
        "print('componentsVariance',componentsVariance)\n",
        "print(' ')\n",
        "\n",
        "pca=PCA()\n",
        "A_pca=pca.fit_transform(A)\n",
        "print('#############################')\n",
        "print('PCA of A')\n",
        "print(A_pca)\n",
        "print('pca.n_components_=',pca.n_components_)\n",
        "tot = sum(pca.explained_variance_)\n",
        "print('sum(pca.explained_variance_)',tot)\n",
        "var_exp = [(i/tot)*100 for i in sorted(pca.explained_variance_, reverse=True)]\n",
        "print('var_exp',var_exp)\n",
        "# Cumulative explained variance\n",
        "cum_var_exp = np.cumsum(var_exp)\n",
        "print('cum_var_exp = np.cumsum(var_exp)',cum_var_exp)\n",
        "componentsVariance = [A.shape[0]*A.shape[1], np.argmax(cum_var_exp > 99) + 1, np.argmax(cum_var_exp > 95) + 1]\n",
        "print('componentsVariance',componentsVariance)\n",
        "print(' ')"
      ],
      "metadata": {
        "colab": {
          "base_uri": "https://localhost:8080/"
        },
        "id": "OpvyJYL6M0RK",
        "outputId": "b5ba41d9-109d-47f3-ee29-4e024e31a4c4"
      },
      "execution_count": 4,
      "outputs": [
        {
          "output_type": "stream",
          "name": "stdout",
          "text": [
            "#############################\n",
            "PCA of np.cov(A)\n",
            "[[ 2.40418400e+03  1.49907988e-01  2.53502615e-02  2.75253187e-15]\n",
            " [-7.30860071e+02 -3.29325607e+00 -1.38895946e+00  2.75253187e-15]\n",
            " [-8.62397423e+02  4.24106451e+00 -5.77124851e-01  2.75253187e-15]\n",
            " [-8.10926509e+02 -1.09771643e+00  1.94073405e+00  2.75253187e-15]]\n",
            "pca.n_components_= 4\n",
            "sum(pca.explained_variance_) 2571874.791666667\n",
            "var_exp [99.99953226092224, 0.00038959410219509315, 7.814497557073019e-05, 3.927838533899075e-34]\n",
            "cum_var_exp = np.cumsum(var_exp) [ 99.99953226  99.99992186 100.         100.        ]\n",
            "componentsVariance [16, 1, 1]\n",
            " \n",
            "#############################\n",
            "PCA of A\n",
            "[[ 9.38715876e+01  4.36389513e-03 -4.63691185e-03  6.88919606e-16]\n",
            " [-3.13126019e+01 -3.81878831e+00 -1.14578399e+00  6.88919606e-16]\n",
            " [-3.14461179e+01  3.92546377e+00 -1.05233271e+00  6.88919606e-16]\n",
            " [-3.11128679e+01 -1.11039356e-01  2.20275361e+00  6.88919606e-16]]\n",
            "pca.n_components_= 4\n",
            "sum(pca.explained_variance_) 3928.833333333334\n",
            "var_exp [99.68373029481293, 0.25456886075739726, 0.06170084442967521, 1.610690954481604e-32]\n",
            "cum_var_exp = np.cumsum(var_exp) [ 99.68373029  99.93829916 100.         100.        ]\n",
            "componentsVariance [16, 1, 1]\n",
            " \n"
          ]
        }
      ]
    },
    {
      "cell_type": "code",
      "execution_count": 5,
      "metadata": {
        "colab": {
          "base_uri": "https://localhost:8080/"
        },
        "id": "8k8LmY0BMZVp",
        "outputId": "c608c29c-66a3-4827-de73-717c45395f58"
      },
      "outputs": [
        {
          "output_type": "stream",
          "name": "stdout",
          "text": [
            "##############A###############\n",
            "eigenvalues from np.linalg.svd\n",
            "[0.011673063578790787, 10.266508889336107, 178.7466547221083, 17086.97516332499]\n",
            "eigenvalues from np.linalg.eig\n",
            "[0.01167306357877594, 10.26650888933635, 178.74665472210862, 17086.97516332498]\n",
            "Pretty close, but not the exact same\n",
            "##############np.cov(A)################\n",
            "eigenvalues from np.linalg.svd\n",
            "[9.294989728103415e-32, 11.359655639766883, 161.58552070611034, 10261886.638156988]\n",
            "eigenvalues from np.linalg.eig\n",
            "[3.110936925435891e-12, 11.359655639767775, 161.58552070611128, 10261886.638156984]\n",
            "Pretty close, but not the exact same\n"
          ]
        }
      ],
      "source": [
        "print('##############A###############')\n",
        "print('eigenvalues from np.linalg.svd')\n",
        "print(sorted(np.linalg.svd(A)[1]**2)) #eigenvalues from np.linalg.svd\n",
        "print('eigenvalues from np.linalg.eig')\n",
        "print(sorted(np.linalg.eig(np.dot(A.T,A))[0])) #eigenvalues from np.linalg.eig\n",
        "print('Pretty close, but not the exact same')\n",
        "print('##############np.cov(A)################')\n",
        "print('eigenvalues from np.linalg.svd')\n",
        "print(sorted(np.linalg.svd(np.cov(A))[1]**2)) #eigenvalues from np.linalg.svd\n",
        "print('eigenvalues from np.linalg.eig')\n",
        "print(sorted(np.linalg.eig(np.dot(np.cov(A).T,np.cov(A)))[0])) #eigenvalues from np.linalg.eig\n",
        "print('Pretty close, but not the exact same')"
      ]
    },
    {
      "cell_type": "code",
      "source": [
        "print('##############################')\n",
        "print('prove (A-eig_v)*eig_vec=0')\n",
        "print('A',A)\n",
        "eig_values_A=np.linalg.eig(np.dot(A.T,A))[0]\n",
        "print('eig_values_A',sorted(eig_values_A))\n",
        "eig_vectors_A=np.linalg.eig(np.dot(A.T,A))[1]\n",
        "print('eig_vectors_A',eig_vectors_A)\n",
        "result=np.sum((np.dot(A.T,A)-np.diag(eig_values_A))*eig_vectors_A.T)\n",
        "print(result)\n",
        "print('np.sum((A-np.diag(eig_values_A))*eig_vectors_A.T) =',np.round(np.sqrt(result.real**2+result.imag**2),4))\n"
      ],
      "metadata": {
        "colab": {
          "base_uri": "https://localhost:8080/"
        },
        "id": "ky__daF_P5-R",
        "outputId": "46402102-7df8-400d-ae92-6aeb5d2ca4c2"
      },
      "execution_count": 6,
      "outputs": [
        {
          "output_type": "stream",
          "name": "stdout",
          "text": [
            "##############################\n",
            "prove (A-eig_v)*eig_vec=0\n",
            "A [[  2  43 123   4]\n",
            " [  1   4   4   2]\n",
            " [  2   7   3   9]\n",
            " [  3   8   3   4]]\n",
            "eig_values_A [0.01167306357877594, 10.26650888933635, 178.74665472210862, 17086.97516332498]\n",
            "eig_vectors_A [[ 0.01720893  0.25352886  0.89165576 -0.37466915]\n",
            " [ 0.33422959  0.60637723 -0.42413342 -0.58370204]\n",
            " [ 0.94167068 -0.24660384  0.13090025  0.18790422]\n",
            " [ 0.03536611  0.7121912   0.0890279   0.69541855]]\n",
            "2.7284841053187847e-12\n",
            "np.sum((A-np.diag(eig_values_A))*eig_vectors_A.T) = 0.0\n"
          ]
        }
      ]
    },
    {
      "cell_type": "code",
      "source": [
        ""
      ],
      "metadata": {
        "id": "sqXg1-orSFpT"
      },
      "execution_count": 6,
      "outputs": []
    }
  ]
}